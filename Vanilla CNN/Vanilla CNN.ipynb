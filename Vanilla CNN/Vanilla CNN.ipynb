{
 "cells": [
  {
   "cell_type": "code",
   "execution_count": 3,
   "id": "5b8ac3fd",
   "metadata": {},
   "outputs": [],
   "source": [
    "import numpy as np\n",
    "import pandas as pd\n",
    "import matplotlib.pyplot as plt\n",
    "import tensorflow as tf\n",
    "from tensorflow import keras\n",
    "from tensorflow.keras import layers\n",
    "from numpy.lib.stride_tricks import sliding_window_view"
   ]
  },
  {
   "cell_type": "code",
   "execution_count": 4,
   "id": "4f0694af",
   "metadata": {},
   "outputs": [],
   "source": [
    "def scaled_trainer(arr, lb, lf, choice):\n",
    "    tx = np.array([])\n",
    "    ty = np.array([])\n",
    "    t = np.array([])\n",
    "    tx_new = np.array([])\n",
    "\n",
    "    for i in arr:\n",
    "        data = pd.read_csv(i).filter([choice]).values\n",
    "        #data = sc.fit_transform(data)\n",
    "        t = np.append(t, sliding_window_view(data, window_shape = (lb+lf,1)))\n",
    "\n",
    "    t = t.reshape(int(t.shape[0]/(lb+lf)), lb+lf)\n",
    "    for j in t:\n",
    "    #j = 10*(j)/max(abs(j))\n",
    "        tx = np.append(tx, j[:lb])\n",
    "        ty = np.append(ty, j[lb:])\n",
    "    tx = tx.reshape((int(tx.shape[0]/lb), lb))\n",
    "    \n",
    "    for k in tx:\n",
    "            #increase = (k[a+1]-k[a])/k[a]\n",
    "        increase = np.diff(k)/k[:-1]\n",
    "        tx_new = np.append(tx_new, increase)\n",
    "    tx_new = tx_new.reshape((int(tx_new.shape[0]/(lb-1)), (lb-1)))\n",
    "    ty = ty.reshape((int(ty.shape[0]/lf), lf))\n",
    "\n",
    "    return tx_new, ty"
   ]
  },
  {
   "cell_type": "code",
   "execution_count": 5,
   "id": "0e637234",
   "metadata": {},
   "outputs": [
    {
     "name": "stdout",
     "output_type": "stream",
     "text": [
      "Starting...\n",
      "Completed 1/5...\n",
      "Completed 2/5...\n",
      "Completed 3/5...\n",
      "Completed 4/5...\n",
      "Completed 5/5...\n"
     ]
    },
    {
     "data": {
      "text/plain": [
       "(5481, 50)"
      ]
     },
     "execution_count": 5,
     "metadata": {},
     "output_type": "execute_result"
    }
   ],
   "source": [
    "lb=51\n",
    "lf=3\n",
    "companies = [\"asian paints.csv\"]\n",
    "\n",
    "print(\"Starting...\")\n",
    "open_x, open_y = scaled_trainer(companies, lb, lf, \"Open Price\")\n",
    "print(\"Completed 1/5...\")\n",
    "high_x, high_y = scaled_trainer(companies, lb, lf, \"High Price\")\n",
    "print(\"Completed 2/5...\")\n",
    "low_x, low_y = scaled_trainer(companies, lb, lf, \"Low Price\")\n",
    "print(\"Completed 3/5...\")\n",
    "close_x, close_y = scaled_trainer(companies, lb, lf, \"Close Price\")\n",
    "print(\"Completed 4/5...\")\n",
    "wap_x, wap_y = scaled_trainer(companies, lb, lf, \"WAP\")\n",
    "print(\"Completed 5/5...\")\n",
    "wap_x.shape"
   ]
  },
  {
   "cell_type": "code",
   "execution_count": 6,
   "id": "2dad39d3",
   "metadata": {},
   "outputs": [
    {
     "data": {
      "image/png": "[encoded data removed]",
      "text/plain": [
       "<Figure size 432x288 with 1 Axes>"
      ]
     },
     "metadata": {
      "needs_background": "light"
     },
     "output_type": "display_data"
    },
    {
     "data": {
      "text/plain": [
       "(50, 50)"
      ]
     },
     "execution_count": 6,
     "metadata": {},
     "output_type": "execute_result"
    }
   ],
   "source": [
    "x = open_x[1310]\n",
    "\n",
    "eps = 0.1\n",
    "d = np.abs(np.subtract.outer(x,x))\n",
    "R = np.exp(-d**2/eps)\n",
    "\n",
    "# Plot the recurrence matrix\n",
    "plt.imshow(R, cmap='gray', interpolation='nearest')\n",
    "plt.show()\n",
    "R.shape"
   ]
  },
  {
   "cell_type": "code",
   "execution_count": 7,
   "id": "fc191173",
   "metadata": {},
   "outputs": [
    {
     "data": {
      "text/plain": [
       "(13702500,)"
      ]
     },
     "execution_count": 7,
     "metadata": {},
     "output_type": "execute_result"
    }
   ],
   "source": [
    "wap_img = np.array([])\n",
    "for i in wap_x:\n",
    "    eps = 0.1\n",
    "    d = np.abs(np.subtract.outer(i,i))\n",
    "    R = np.exp(-d**2/eps)\n",
    "    wap_img = np.append(wap_img, R)\n",
    "    \n",
    "wap_img.shape"
   ]
  },
  {
   "cell_type": "code",
   "execution_count": 44,
   "id": "d2f7ea7b",
   "metadata": {},
   "outputs": [],
   "source": [
    "wap_img = wap_img.reshape((5481, 50, 50, 1))"
   ]
  },
  {
   "cell_type": "code",
   "execution_count": 45,
   "id": "2ea9ddfd",
   "metadata": {},
   "outputs": [],
   "source": [
    "from tensorflow.keras import datasets, layers, models\n",
    "\n",
    "model = models.Sequential()\n",
    "model.add(layers.Conv2D(32, (10, 10), activation='relu', input_shape=(50, 50, 1)))\n",
    "model.add(layers.MaxPooling2D((2, 2)))\n",
    "model.add(layers.Conv2D(64, (5, 5), activation='relu'))\n",
    "model.add(layers.MaxPooling2D((2, 2)))\n",
    "model.add(layers.Conv2D(64, (3, 3), activation='relu'))\n",
    "model.add(layers.MaxPooling2D((2, 2)))\n",
    "model.add(layers.Conv2D(64, (3, 3), activation='relu'))\n",
    "model.add(layers.Flatten())\n",
    "model.add(layers.Dense(32, activation='relu'))\n",
    "model.add(layers.Dense(32, activation='relu'))\n",
    "model.add(layers.Dense(1, activation='relu'))"
   ]
  },
  {
   "cell_type": "code",
   "execution_count": 38,
   "id": "06fa1037",
   "metadata": {},
   "outputs": [
    {
     "name": "stdout",
     "output_type": "stream",
     "text": [
      "Model: \"sequential_2\"\n",
      "_________________________________________________________________\n",
      " Layer (type)                Output Shape              Param #   \n",
      "=================================================================\n",
      " conv2d_4 (Conv2D)           (None, 41, 41, 32)        3232      \n",
      "                                                                 \n",
      " max_pooling2d_2 (MaxPooling  (None, 20, 20, 32)       0         \n",
      " 2D)                                                             \n",
      "                                                                 \n",
      " conv2d_5 (Conv2D)           (None, 16, 16, 64)        51264     \n",
      "                                                                 \n",
      " max_pooling2d_3 (MaxPooling  (None, 8, 8, 64)         0         \n",
      " 2D)                                                             \n",
      "                                                                 \n",
      " conv2d_6 (Conv2D)           (None, 6, 6, 64)          36928     \n",
      "                                                                 \n",
      " max_pooling2d_4 (MaxPooling  (None, 3, 3, 64)         0         \n",
      " 2D)                                                             \n",
      "                                                                 \n",
      " conv2d_7 (Conv2D)           (None, 1, 1, 64)          36928     \n",
      "                                                                 \n",
      " flatten_1 (Flatten)         (None, 64)                0         \n",
      "                                                                 \n",
      " dense_3 (Dense)             (None, 32)                2080      \n",
      "                                                                 \n",
      " dense_4 (Dense)             (None, 32)                1056      \n",
      "                                                                 \n",
      " dense_5 (Dense)             (None, 1)                 33        \n",
      "                                                                 \n",
      "=================================================================\n",
      "Total params: 131,521\n",
      "Trainable params: 131,521\n",
      "Non-trainable params: 0\n",
      "_________________________________________________________________\n"
     ]
    }
   ],
   "source": [
    "model.summary()"
   ]
  },
  {
   "cell_type": "code",
   "execution_count": 46,
   "id": "84552d82",
   "metadata": {},
   "outputs": [],
   "source": [
    "model.compile(optimizer=tf.keras.optimizers.Adam(learning_rate=1e-4),\n",
    "              loss=tf.keras.losses.MeanSquaredError(),\n",
    "              metrics=['accuracy'])\n"
   ]
  },
  {
   "cell_type": "code",
   "execution_count": 12,
   "id": "6903abcb",
   "metadata": {},
   "outputs": [
    {
     "data": {
      "text/plain": [
       "(5481, 3)"
      ]
     },
     "execution_count": 12,
     "metadata": {},
     "output_type": "execute_result"
    }
   ],
   "source": [
    "wap_y.shape"
   ]
  },
  {
   "cell_type": "code",
   "execution_count": 13,
   "id": "8141ccfd",
   "metadata": {},
   "outputs": [
    {
     "data": {
      "text/plain": [
       "(5481,)"
      ]
     },
     "execution_count": 13,
     "metadata": {},
     "output_type": "execute_result"
    }
   ],
   "source": [
    "x = [1, 2, 3]\n",
    "output = np.array([])\n",
    "for i in wap_y:\n",
    "    slope, _ = np.polyfit(x, i, 1)\n",
    "    output = np.append(output, slope)\n",
    "output.shape"
   ]
  },
  {
   "cell_type": "code",
   "execution_count": 21,
   "id": "32bd39ef",
   "metadata": {},
   "outputs": [],
   "source": [
    "from sklearn.preprocessing import MinMaxScaler\n",
    "sc = MinMaxScaler(feature_range=(-1,1))\n",
    "output = sc.fit_transform(output.reshape((-1,1)))"
   ]
  },
  {
   "cell_type": "code",
   "execution_count": 47,
   "id": "755643b8",
   "metadata": {},
   "outputs": [
    {
     "name": "stdout",
     "output_type": "stream",
     "text": [
      "Epoch 1/20\n",
      "137/137 [==============================] - 5s 35ms/step - loss: 0.7594 - accuracy: 0.0000e+00 - val_loss: 0.7568 - val_accuracy: 0.0000e+00 - lr: 1.0000e-04\n",
      "Epoch 2/20\n",
      "137/137 [==============================] - 5s 34ms/step - loss: 0.7593 - accuracy: 0.0000e+00 - val_loss: 0.7568 - val_accuracy: 0.0000e+00 - lr: 1.0000e-04\n",
      "Epoch 3/20\n",
      "137/137 [==============================] - 5s 34ms/step - loss: 0.7593 - accuracy: 0.0000e+00 - val_loss: 0.7568 - val_accuracy: 0.0000e+00 - lr: 1.0000e-04\n",
      "Epoch 4/20\n",
      "137/137 [==============================] - 5s 35ms/step - loss: 0.7593 - accuracy: 0.0000e+00 - val_loss: 0.7568 - val_accuracy: 0.0000e+00 - lr: 1.0000e-04\n",
      "Epoch 5/20\n",
      "137/137 [==============================] - 5s 35ms/step - loss: 0.7593 - accuracy: 0.0000e+00 - val_loss: 0.7568 - val_accuracy: 0.0000e+00 - lr: 1.0000e-04\n",
      "Epoch 6/20\n",
      "137/137 [==============================] - 5s 34ms/step - loss: 0.7593 - accuracy: 0.0000e+00 - val_loss: 0.7568 - val_accuracy: 0.0000e+00 - lr: 1.0000e-04\n",
      "Epoch 7/20\n",
      "137/137 [==============================] - 5s 36ms/step - loss: 0.7593 - accuracy: 0.0000e+00 - val_loss: 0.7568 - val_accuracy: 0.0000e+00 - lr: 1.0000e-04\n",
      "Epoch 8/20\n",
      "137/137 [==============================] - 5s 34ms/step - loss: 0.7593 - accuracy: 0.0000e+00 - val_loss: 0.7568 - val_accuracy: 0.0000e+00 - lr: 1.0000e-04\n",
      "Epoch 9/20\n",
      "137/137 [==============================] - 5s 36ms/step - loss: 0.7593 - accuracy: 0.0000e+00 - val_loss: 0.7568 - val_accuracy: 0.0000e+00 - lr: 1.0000e-04\n",
      "Epoch 10/20\n",
      "137/137 [==============================] - 5s 33ms/step - loss: 0.7593 - accuracy: 0.0000e+00 - val_loss: 0.7568 - val_accuracy: 0.0000e+00 - lr: 1.0000e-04\n",
      "Epoch 11/20\n",
      "137/137 [==============================] - 4s 33ms/step - loss: 0.7593 - accuracy: 0.0000e+00 - val_loss: 0.7568 - val_accuracy: 0.0000e+00 - lr: 1.0000e-04\n"
     ]
    }
   ],
   "source": [
    "history = model.fit(wap_img, output, epochs=20, validation_split=0.2, callbacks=[keras.callbacks.EarlyStopping(monitor=\"val_loss\", patience=10, min_delta=1e-5)\n",
    "                                                       ,keras.callbacks.ReduceLROnPlateau(monitor=\"val_loss\",min_delta=0.0005, factor=0.5, patience=5, min_lr=0.0001)])"
   ]
  },
  {
   "cell_type": "code",
   "execution_count": 41,
   "id": "3286103f",
   "metadata": {},
   "outputs": [
    {
     "data": {
      "text/plain": [
       "<matplotlib.legend.Legend at 0x1ff1e10ab20>"
      ]
     },
     "execution_count": 41,
     "metadata": {},
     "output_type": "execute_result"
    },
    {
     "data": {
      "image/png": "[encoded data removed]",
      "text/plain": [
       "<Figure size 432x288 with 1 Axes>"
      ]
     },
     "metadata": {
      "needs_background": "light"
     },
     "output_type": "display_data"
    }
   ],
   "source": [
    "plt.plot(history.history['loss'], label='loss')\n",
    "plt.plot(history.history['val_loss'], label = 'val_loss')\n",
    "plt.xlabel('Epoch')\n",
    "plt.ylabel('Accuracy')\n",
    "\n",
    "plt.legend(loc='lower right')"
   ]
  },
  {
   "cell_type": "code",
   "execution_count": 42,
   "id": "ab08c4fe",
   "metadata": {},
   "outputs": [],
   "source": [
    "out = model(wap_img[10].reshape((1,50,50,1)))"
   ]
  },
  {
   "cell_type": "code",
   "execution_count": 43,
   "id": "7c5dc928",
   "metadata": {},
   "outputs": [
    {
     "data": {
      "text/plain": [
       "(<tf.Tensor: shape=(1, 1), dtype=float32, numpy=array([[0.]], dtype=float32)>,\n",
       " array([-0.87173432]))"
      ]
     },
     "execution_count": 43,
     "metadata": {},
     "output_type": "execute_result"
    }
   ],
   "source": [
    "out, output[10]"
   ]
  }
 ],
 "metadata": {
  "kernelspec": {
   "display_name": "Python 3 (ipykernel)",
   "language": "python",
   "name": "python3"
  },
  "language_info": {
   "codemirror_mode": {
    "name": "ipython",
    "version": 3
   },
   "file_extension": ".py",
   "mimetype": "text/x-python",
   "name": "python",
   "nbconvert_exporter": "python",
   "pygments_lexer": "ipython3",
   "version": "3.9.12"
  }
 },
 "nbformat": 4,
 "nbformat_minor": 5
}
