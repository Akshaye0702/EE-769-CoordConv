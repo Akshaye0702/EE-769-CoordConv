{
 "cells": [
  {
   "cell_type": "code",
   "execution_count": null,
   "metadata": {
    "id": "X2sHzxm-QxEL"
   },
   "outputs": [],
   "source": [
    "import pandas as pd\n",
    "import numpy as np\n",
    "import matplotlib.pyplot as plt\n",
    "from numpy.lib.stride_tricks import sliding_window_view\n",
    "from sklearn.preprocessing import MinMaxScaler\n",
    "\n",
    "def scaled_trainer(arr, lb, lf, choice):\n",
    "    sc = MinMaxScaler(feature_range=(-1,1))\n",
    "    tx = np.array([])\n",
    "    ty = np.array([])\n",
    "    t = np.array([])\n",
    "\n",
    "    for i in arr:\n",
    "        data = pd.read_csv(i).filter([choice]).values\n",
    "        data = sc.fit_transform(data)\n",
    "        t = np.append(t, sliding_window_view(data, window_shape = (lb+lf,1)))\n",
    "\n",
    "    t = t.reshape(int(t.shape[0]/(lb+lf)), lb+lf)\n",
    "    for j in t:\n",
    "        tx = np.append(tx, j[:lb])\n",
    "        ty = np.append(ty, j[lb:])\n",
    "    tx = tx.reshape((int(tx.shape[0]/lb), lb))\n",
    "    ty = sc.inverse_transform(ty.reshape((-1,1)))       \n",
    "    ty = ty.reshape((int(ty.shape[0]/lf), lf))\n",
    "\n",
    "    return tx, ty"
   ]
  },
  {
   "cell_type": "code",
   "execution_count": null,
   "metadata": {
    "id": "eVKv6AbjUi-R"
   },
   "outputs": [],
   "source": [
    "#Limits on number of days taken as input(lb) and number of days taken as output(lf)\n",
    "lb=200\n",
    "lf=10\n",
    "#List of companies to train on:\n",
    "#1 and 3 for training, 2 for testing\n",
    "companies = [\"reliance industries.csv\", \"reliance power.csv\", \"tata steel.csv\",\n",
    "             \"asian paints new.csv\", \"tata coffee.csv\", \"edelweiss.csv\", \n",
    "             \"tata chemicals.csv\", \"tech mahindra.csv\", \"infosys.csv\", \"tata motors.csv\"]"
   ]
  },
  {
   "cell_type": "code",
   "execution_count": null,
   "metadata": {},
   "outputs": [],
   "source": [
    "#Data preprocessing:"
   ]
  },
  {
   "cell_type": "code",
   "execution_count": null,
   "metadata": {
    "colab": {
     "base_uri": "https://localhost:8080/"
    },
    "id": "Mwjr_dRDUqSv",
    "outputId": "92fd3032-78dd-42ab-8a84-933391332608"
   },
   "outputs": [
    {
     "name": "stdout",
     "output_type": "stream",
     "text": [
      "Saved data on reliance industries: Input/Output (1277, 200, 7) (1277, 2)\n",
      "Saved data on reliance power: Input/Output (1277, 200, 7) (1277, 2)\n",
      "Saved data on tata steel: Input/Output (1277, 200, 7) (1277, 2)\n",
      "Saved data on asian paints new: Input/Output (1277, 200, 7) (1277, 2)\n",
      "Saved data on tata coffee: Input/Output (1277, 200, 7) (1277, 2)\n",
      "Saved data on edelweiss: Input/Output (1277, 200, 7) (1277, 2)\n",
      "Saved data on tata chemicals: Input/Output (1277, 200, 7) (1277, 2)\n",
      "Saved data on tech mahindra: Input/Output (1277, 200, 7) (1277, 2)\n",
      "Saved data on infosys: Input/Output (1277, 200, 7) (1277, 2)\n",
      "Saved data on tata motors: Input/Output (1277, 200, 7) (1277, 2)\n"
     ]
    }
   ],
   "source": [
    "for com in companies:\n",
    "    trade_x, _ = scaled_trainer([com], lb, lf, \"No. of Trades\")\n",
    "    shl_x, _ = scaled_trainer([com], lb, lf, \"Spread High-Low\")\n",
    "    date_x, _ = scaled_trainer([com], lb, lf, \"Date_val\")\n",
    "    wap_x, wap_y = scaled_trainer([com], lb, lf, \"WAP\")\n",
    "    share_x, _ = scaled_trainer([com], lb, lf, \"No.of Shares\")\n",
    "    sco_x, _ = scaled_trainer([com], lb, lf, \"Spread Close-Open\")\n",
    "    open_x, _ = scaled_trainer([com], lb, lf, \"Open Price\")\n",
    "    \n",
    "    model_in = wap_x.reshape((-1,200,1))\n",
    "    model_in = np.append(model_in, open_x.reshape((-1,200,1)), axis=2)\n",
    "    model_in = np.append(model_in, shl_x.reshape((-1,200,1)), axis=2)\n",
    "    model_in = np.append(model_in, sco_x.reshape((-1,200,1)), axis=2)\n",
    "    model_in = np.append(model_in, trade_x.reshape((-1,200,1)), axis=2)\n",
    "    model_in = np.append(model_in, share_x.reshape((-1,200,1)), axis=2)\n",
    "    model_in = np.append(model_in, date_x.reshape((-1,200,1)), axis=2)\n",
    "\n",
    "    x = np.arange(1,lf+1)\n",
    "    slopes = np.array([])\n",
    "    direction = np.array([])\n",
    "    for i in wap_y:\n",
    "        m, _ = np.polyfit(x, i, 1)\n",
    "        a, b, _ = np.polyfit(x, i, 2)\n",
    "        slopes = np.append(slopes, np.array([m, a]))\n",
    "\n",
    "    slopes = slopes.reshape((int(slopes.shape[0]/2), 2))\n",
    "    \n",
    "    model_out = []\n",
    "    for i in slopes:\n",
    "        if i[0]<=0:\n",
    "            model_out.append(0)\n",
    "        else:\n",
    "            model_out.append(1)\n",
    "        if i[1]<=0:\n",
    "            model_out.append(0)\n",
    "        else:\n",
    "            model_out.append(1)\n",
    "\n",
    "    model_out = np.array(model_out)\n",
    "    model_out = model_out.reshape((int(model_out.shape[0]/2), 2))\n",
    "\n",
    "    np.save(f\"input {com[:-4]}\", model_in)\n",
    "    np.save(f\"output {com[:-4]}\", model_out)\n",
    "    print(f\"Saved data on {com[:-4]}: Input/Output\", model_in.shape, model_out.shape)"
   ]
  },
  {
   "cell_type": "code",
   "execution_count": null,
   "metadata": {},
   "outputs": [],
   "source": [
    "#Making the network:"
   ]
  },
  {
   "cell_type": "code",
   "execution_count": null,
   "metadata": {
    "colab": {
     "base_uri": "https://localhost:8080/"
    },
    "id": "KDAFSwphV51s",
    "outputId": "4ed8bab4-2ef8-4584-fe69-cfb9600a0aef"
   },
   "outputs": [],
   "source": [
    "from tensorflow.python.layers import base\n",
    "import tensorflow as tf\n",
    "from tensorflow import keras\n",
    "from keras import layers\n",
    "\n",
    "\n",
    "def inception_module(inputs, filters_1x1, filters_3x3_reduce, filters_3x3, filters_5x5_reduce, filters_5x5, filters_pool):\n",
    "    # 1x1 conv layer\n",
    "    conv_1x1 = tf.keras.layers.Conv2D(filters_1x1, (1, 1), padding='same', activation='linear')(inputs)\n",
    "\n",
    "    # 3x3 conv layer\n",
    "    conv_3x3_reduce = tf.keras.layers.Conv2D(filters_3x3_reduce, (1, 1), padding='same', activation='linear')(inputs)\n",
    "    conv_3x3 = tf.keras.layers.Conv2D(filters_3x3, (3, 3), padding='same', activation='linear')(conv_3x3_reduce)\n",
    "\n",
    "    #5x5 conv layer\n",
    "    conv_5x5_reduce = tf.keras.layers.Conv2D(filters_5x5_reduce, (1, 1), padding='same', activation='linear')(inputs)\n",
    "    conv_5x5 = tf.keras.layers.Conv2D(filters_5x5, (5, 5), padding='same', activation='linear')(conv_5x5_reduce)\n",
    "\n",
    "    # Max pooling layer\n",
    "    max_pool = tf.keras.layers.MaxPooling2D((3, 3), strides=(1, 1), padding='same')(inputs)\n",
    "    max_pool_conv = tf.keras.layers.Conv2D(filters_pool, (1, 1), padding='same', activation='linear')(max_pool)\n",
    "\n",
    "    # Concatenate the outputs of all conv layers\n",
    "    outputs = tf.keras.layers.Concatenate(axis=-1)([conv_1x1, conv_3x3, conv_5x5, max_pool_conv])\n",
    "\n",
    "    return outputs\n",
    "\n",
    "\n",
    "inputs = keras.Input(shape=(200,7,1), name=\"input\")\n",
    "x = layers.Conv2D(64, 4, padding='same', activation='linear')(inputs)\n",
    "x = layers.MaxPooling2D((3, 3), strides=(2, 2), padding='same')(x)\n",
    "x = layers.Dropout(0.2)(x)\n",
    "x = inception_module(x, 128, 112, 64, 64, 32, 32)\n",
    "x = inception_module(x, 256, 200, 128, 128, 112, 112)\n",
    "x = layers.MaxPooling2D((3, 3), strides=(2, 2), padding='same')(x)\n",
    "x = layers.Dropout(0.2)(x)\n",
    "x = inception_module(x, 192, 96, 208, 16, 48, 64)\n",
    "x = inception_module(x, 160, 112, 224, 24, 64, 64)\n",
    "x = inception_module(x, 128, 128, 256, 24, 64, 64)\n",
    "y = layers.GlobalMaxPool2D()(x)\n",
    "output1 = layers.Dense(2, activation='softmax', name='out1')(y)\n",
    "x = layers.MaxPooling2D((3, 3), strides=(2, 2), padding='same')(x)\n",
    "x = layers.Dropout(0.2)(x)\n",
    "x = inception_module(x, 128, 112, 64, 64, 32, 32)\n",
    "x = inception_module(x, 256, 200, 128, 128, 112, 112)\n",
    "x = layers.MaxPooling2D((3, 3), strides=(2, 2), padding='same')(x)\n",
    "x = layers.Dropout(0.2)(x)\n",
    "x = inception_module(x, 256, 160, 320, 32, 128, 128)\n",
    "x = inception_module(x, 384, 192, 384, 48, 128, 128)\n",
    "x = inception_module(x, 384, 192, 384, 64, 256, 256)\n",
    "y = layers.GlobalMaxPool2D()(x)\n",
    "output2 = layers.Dense(2, activation='softmax', name='out2')(y)\n",
    "seer = keras.Model(inputs, [output1, output2], name='seer')\n",
    "seer.summary()"
   ]
  },
  {
   "cell_type": "code",
   "execution_count": null,
   "metadata": {
    "id": "CRLr_XdGWBaV"
   },
   "outputs": [],
   "source": [
    "import os\n",
    "checkpoint_path = \"train/cp.ckpt\"\n",
    "checkpoint_dir = os.path.dirname(checkpoint_path)\n",
    "base_learning_rate = 1e-4\n",
    "#seer.load_weights(checkpoint_path)\n",
    "seer.compile(optimizer=tf.keras.optimizers.Nadam(learning_rate=base_learning_rate),\n",
    "              loss=tf.keras.losses.SparseCategoricalCrossentropy(),\n",
    "              metrics=keras.metrics.CategoricalAccuracy())"
   ]
  },
  {
   "cell_type": "code",
   "execution_count": null,
   "metadata": {},
   "outputs": [],
   "source": [
    "#Training and Evaluation"
   ]
  },
  {
   "cell_type": "code",
   "execution_count": null,
   "metadata": {
    "colab": {
     "base_uri": "https://localhost:8080/"
    },
    "id": "kTIekMmfWHW3",
    "outputId": "788ccfd8-05cf-425b-da63-2d4b56505379"
   },
   "outputs": [],
   "source": [
    "history = []\n",
    "companies = [\"reliance industries.csv\", \"reliance power.csv\", \"tata steel.csv\",\n",
    "             \"asian paints new.csv\", \"tata coffee.csv\", \"edelweiss.csv\", \n",
    "             \"tata motors.csv\", \"tech mahindra.csv\", \"infosys.csv\"]\n",
    "for com in companies:\n",
    "    model_in = np.load(f\"input {com[:-4]}.npy\")\n",
    "    # wap = model_in[:,:,:,0].reshape((-1, lb, 3, 1))\n",
    "    # shl = model_in[:,:,:,1].reshape((-1, lb, 3, 1))\n",
    "    # trades = model_in[:,:,:,2].reshape((-1, lb, 3, 1))\n",
    "    model_out = np.load(f\"output {com[:-4]}.npy\")\n",
    "    out1 = model_out[:,0].reshape((-1,1)) \n",
    "    out2 = model_out[:,1].reshape((-1,1))   \n",
    "\n",
    "    print(f\"Training on {com[:-4]} data\")\n",
    "\n",
    "    history.append(seer.fit(model_in, [out1, out1],\n",
    "                            epochs=40, validation_split=0.2, verbose=1, \n",
    "                        callbacks=[keras.callbacks.EarlyStopping(monitor=\"val_loss\", patience=10, min_delta=1e-5),\n",
    "                        keras.callbacks.ReduceLROnPlateau(monitor=\"val_loss\",min_delta=0.0005, factor=0.5, patience=3, min_lr=1e-6),\n",
    "                        keras.callbacks.ModelCheckpoint(filepath=checkpoint_path, save_weights_only=True, save_best_only=True)]))"
   ]
  },
  {
   "cell_type": "code",
   "execution_count": null,
   "metadata": {
    "id": "FYW5yrOGWPWw"
   },
   "outputs": [],
   "source": [
    "testing = []\n",
    "companies = [\"tata motors.csv\"]\n",
    "for com in companies:\n",
    "    model_in = np.load(f\"input {com[:-4]}.npy\")\n",
    "    # wap = model_in[:,:,:,0].reshape((-1, lb, 3, 1))\n",
    "    # shl = model_in[:,:,:,1].reshape((-1, lb, 3, 1))\n",
    "    # trades = model_in[:,:,:,2].reshape((-1, lb, 3, 1))\n",
    "    model_out = np.load(f\"output {com[:-4]}.npy\")\n",
    "    out1 = model_out[:,0].reshape((-1,1)) \n",
    "    out2 = model_out[:,1].reshape((-1,1))"
   ]
  },
  {
   "cell_type": "code",
   "execution_count": null,
   "metadata": {
    "colab": {
     "base_uri": "https://localhost:8080/"
    },
    "id": "XWWJG8n9ahmY",
    "outputId": "0f614d94-6ef8-46fd-86ca-04c38cc281c6"
   },
   "outputs": [
    {
     "name": "stdout",
     "output_type": "stream",
     "text": [
      "40/40 [==============================] - 2s 24ms/step - loss: 1.3880 - out1_loss: 0.6946 - out2_loss: 0.6934 - out1_categorical_accuracy: 0.7549 - out2_categorical_accuracy: 0.6006\n"
     ]
    },
    {
     "data": {
      "text/plain": [
       "[1.387966513633728,\n",
       " 0.6945967078208923,\n",
       " 0.6933698058128357,\n",
       " 0.7548942565917969,\n",
       " 0.6006264686584473]"
      ]
     },
     "execution_count": 18,
     "metadata": {},
     "output_type": "execute_result"
    }
   ],
   "source": [
    "seer.evaluate(model_in, [out1, out1])"
   ]
  },
  {
   "cell_type": "code",
   "execution_count": null,
   "metadata": {},
   "outputs": [],
   "source": [
    "#Seeing real-time results:"
   ]
  },
  {
   "cell_type": "code",
   "execution_count": null,
   "metadata": {
    "colab": {
     "base_uri": "https://localhost:8080/"
    },
    "id": "8Qrjzto8WY6q",
    "outputId": "f9aca17d-94ae-4d31-ee14-2fbfb5575ddc"
   },
   "outputs": [
    {
     "name": "stdout",
     "output_type": "stream",
     "text": [
      "29/29 [==============================] - 3s 113ms/step\n"
     ]
    }
   ],
   "source": [
    "ex = np.arange(0,900)\n",
    "predict = seer.predict(model_in[ex])\n",
    "predict1 = predict[1].reshape((-1,2))\n",
    "predict0 = predict[0].reshape((-1,2))"
   ]
  },
  {
   "cell_type": "code",
   "execution_count": null,
   "metadata": {
    "id": "dzrSAoXKWkvi"
   },
   "outputs": [],
   "source": [
    "ans0 = []\n",
    "ans1 = []\n",
    "for i in range(len(ex)):\n",
    "    ans0.append(np.where(predict0[i]>0.5)[0][0])\n",
    "    ans1.append(np.where(predict1[i]>0.5)[0][0])\n",
    "out0 = model_out[ex, 0]\n",
    "out1 = model_out[ex, 1]"
   ]
  },
  {
   "cell_type": "code",
   "execution_count": null,
   "metadata": {
    "colab": {
     "base_uri": "https://localhost:8080/",
     "height": 447
    },
    "id": "_TIGjMAkWzw6",
    "outputId": "f503d997-c3b5-4f54-82cb-db2de4c60d7c"
   },
   "outputs": [
    {
     "data": {
      "text/plain": [
       "<matplotlib.legend.Legend at 0x7efae5a19c60>"
      ]
     },
     "execution_count": 27,
     "metadata": {},
     "output_type": "execute_result"
    },
    {
     "data": {
      "image/png": "[encoded data removed]",
      "text/plain": [
       "<Figure size 640x480 with 1 Axes>"
      ]
     },
     "metadata": {},
     "output_type": "display_data"
    }
   ],
   "source": [
    "plt.plot(ex, out0, ex, ans0, ex, ans1)\n",
    "plt.legend([\"Actual\", \"Predict0\", \"Predict1\"])"
   ]
  },
  {
   "cell_type": "code",
   "execution_count": null,
   "metadata": {},
   "outputs": [],
   "source": [
    "#Tallying our results:"
   ]
  },
  {
   "cell_type": "code",
   "execution_count": null,
   "metadata": {
    "colab": {
     "base_uri": "https://localhost:8080/",
     "height": 447
    },
    "id": "eILkmLBEXAJj",
    "outputId": "07125f9d-7289-40f3-8983-453b7134f2ea"
   },
   "outputs": [
    {
     "data": {
      "text/plain": [
       "<function matplotlib.pyplot.show(close=None, block=None)>"
      ]
     },
     "execution_count": 28,
     "metadata": {},
     "output_type": "execute_result"
    },
    {
     "data": {
      "image/png": "[encoded data removed]",
      "text/plain": [
       "<Figure size 640x480 with 1 Axes>"
      ]
     },
     "metadata": {},
     "output_type": "display_data"
    }
   ],
   "source": [
    "tally = []\n",
    "for i in range(len(out0)):\n",
    "    if out0[i]==ans0[i] and out0[i]==ans1[i]:\n",
    "      tally.append(0)\n",
    "    elif out0[i]>ans0[i] and out0[i]==ans1[i]:\n",
    "      tally.append(1)\n",
    "    elif out0[i]<ans0[i] and out0[i]==ans1[i]:\n",
    "      tally.append(2)\n",
    "    elif out0[i]==ans0[i] and out0[i]>ans1[i]:\n",
    "      tally.append(3)\n",
    "    elif out0[i]==ans0[i] and out0[i]<ans1[i]:\n",
    "      tally.append(4)\n",
    "    elif out0[i]>ans0[i] and out0[i]>ans1[i]:\n",
    "      tally.append(5)\n",
    "    elif out0[i]<ans0[i] and out0[i]<ans1[i]:\n",
    "      tally.append(6)\n",
    "    else:\n",
    "      tally.append(7)\n",
    "\n",
    "tally = np.array(tally)\n",
    "bins = np.arange(0, 8)\n",
    "hist, _ = np.histogram(tally, bins=bins)\n",
    "plt.bar(bins[:-1], hist)\n",
    "plt.xticks(bins[:-1])\n",
    "plt.show"
   ]
  }
 ],
 "metadata": {
  "accelerator": "GPU",
  "colab": {
   "provenance": []
  },
  "gpuClass": "standard",
  "kernelspec": {
   "display_name": "Python 3 (ipykernel)",
   "language": "python",
   "name": "python3"
  },
  "language_info": {
   "codemirror_mode": {
    "name": "ipython",
    "version": 3
   },
   "file_extension": ".py",
   "mimetype": "text/x-python",
   "name": "python",
   "nbconvert_exporter": "python",
   "pygments_lexer": "ipython3",
   "version": "3.9.12"
  }
 },
 "nbformat": 4,
 "nbformat_minor": 1
}
